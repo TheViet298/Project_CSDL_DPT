{
 "cells": [
  {
   "cell_type": "markdown",
   "id": "393fc7e4",
   "metadata": {
    "papermill": {
     "duration": 0.002562,
     "end_time": "2025-09-15T16:01:02.910001",
     "exception": false,
     "start_time": "2025-09-15T16:01:02.907439",
     "status": "completed"
    },
    "tags": []
   },
   "source": [
    "# 1) Thiết lập đường dẫn và thư mục gốc"
   ]
  },
  {
   "cell_type": "code",
   "execution_count": 1,
   "id": "a528e192",
   "metadata": {
    "_cell_guid": "b1076dfc-b9ad-4769-8c92-a6c4dae69d19",
    "_uuid": "8f2839f25d086af736a60e9eeb907d3b93b6e0e5",
    "execution": {
     "iopub.execute_input": "2025-09-15T16:01:02.915300Z",
     "iopub.status.busy": "2025-09-15T16:01:02.914983Z",
     "iopub.status.idle": "2025-09-15T16:01:02.923398Z",
     "shell.execute_reply": "2025-09-15T16:01:02.922757Z"
    },
    "papermill": {
     "duration": 0.012732,
     "end_time": "2025-09-15T16:01:02.924738",
     "exception": false,
     "start_time": "2025-09-15T16:01:02.912006",
     "status": "completed"
    },
    "tags": []
   },
   "outputs": [],
   "source": [
    "from pathlib import Path\n",
    "import re, shutil, csv\n",
    "from collections import Counter\n",
    "\n",
    "# Đường dẫn INPUT_DIR\n",
    "INPUT_DIR = Path(\"/kaggle/input/utkface/UTKFace\")\n",
    "OUT_DIR   = Path(\"/kaggle/working/selected/elderly\")\n",
    "OUT_DIR.mkdir(parents=True, exist_ok=True)\n",
    "\n",
    "MANIFEST = Path(\"/kaggle/working/elderly_manifest.csv\")\n"
   ]
  },
  {
   "cell_type": "markdown",
   "id": "e1661719",
   "metadata": {
    "papermill": {
     "duration": 0.001561,
     "end_time": "2025-09-15T16:01:02.928219",
     "exception": false,
     "start_time": "2025-09-15T16:01:02.926658",
     "status": "completed"
    },
    "tags": []
   },
   "source": [
    "# 2) Lọc ảnh người cao tuổi (≥60) và ghi manifest"
   ]
  },
  {
   "cell_type": "code",
   "execution_count": 2,
   "id": "0a185f83",
   "metadata": {
    "execution": {
     "iopub.execute_input": "2025-09-15T16:01:02.932884Z",
     "iopub.status.busy": "2025-09-15T16:01:02.932370Z",
     "iopub.status.idle": "2025-09-15T16:03:07.232169Z",
     "shell.execute_reply": "2025-09-15T16:03:07.230945Z"
    },
    "papermill": {
     "duration": 124.305558,
     "end_time": "2025-09-15T16:03:07.235457",
     "exception": false,
     "start_time": "2025-09-15T16:01:02.929899",
     "status": "completed"
    },
    "tags": []
   },
   "outputs": [
    {
     "name": "stdout",
     "output_type": "stream",
     "text": [
      "Tổng ảnh quét: 23705\n",
      "Ảnh >=60 tuổi đã chọn: 2688\n",
      "Manifest: /kaggle/working/elderly_manifest.csv\n",
      "Thư mục ảnh đã lọc: /kaggle/working/selected/elderly\n"
     ]
    }
   ],
   "source": [
    "# Pattern: age_gender_race_date&time.jpg(.chip.jpg)\n",
    "pat = re.compile(r\"^(?P<age>\\d+)_(?P<gender>[01])_(?P<race>\\d+)_\")\n",
    "\n",
    "rows = []\n",
    "total = 0\n",
    "elderly = 0\n",
    "age_hist = Counter()\n",
    "\n",
    "# Duyệt đệ quy toàn bộ ảnh .jpg / .jpg.chip.jpg\n",
    "for f in INPUT_DIR.rglob(\"*.jpg*\"):\n",
    "    name = f.name\n",
    "    m = pat.match(name)\n",
    "    if not m:\n",
    "        continue\n",
    "    total += 1\n",
    "    age = int(m.group(\"age\"))\n",
    "    gender = int(m.group(\"gender\"))  # 0=male, 1=female (theo mô tả UTKFace)\n",
    "    race = int(m.group(\"race\"))\n",
    "\n",
    "    age_hist[age] += 1\n",
    "\n",
    "    if age >= 60:\n",
    "        elderly += 1\n",
    "        # đặt tên đầu ra giữ nguyên để dễ truy vết\n",
    "        dst = OUT_DIR / name\n",
    "        if not dst.exists():\n",
    "            shutil.copy2(f, dst)\n",
    "        rows.append({\n",
    "            \"image_id\": name,\n",
    "            \"age\": age,\n",
    "            \"gender\": gender,\n",
    "            \"race\": race,\n",
    "            \"path\": str(dst)\n",
    "        })\n",
    "\n",
    "# Ghi manifest\n",
    "with MANIFEST.open(\"w\", newline=\"\", encoding=\"utf-8\") as fp:\n",
    "    w = csv.DictWriter(fp, fieldnames=[\"image_id\",\"age\",\"gender\",\"race\",\"path\"])\n",
    "    w.writeheader()\n",
    "    w.writerows(rows)\n",
    "\n",
    "print(f\"Tổng ảnh quét: {total}\")\n",
    "print(f\"Ảnh >=60 tuổi đã chọn: {elderly}\")\n",
    "print(f\"Manifest: {MANIFEST}\")\n",
    "print(f\"Thư mục ảnh đã lọc: {OUT_DIR}\")\n"
   ]
  },
  {
   "cell_type": "code",
   "execution_count": 3,
   "id": "aeb2060e",
   "metadata": {
    "execution": {
     "iopub.execute_input": "2025-09-15T16:03:07.240886Z",
     "iopub.status.busy": "2025-09-15T16:03:07.240551Z",
     "iopub.status.idle": "2025-09-15T16:03:07.255384Z",
     "shell.execute_reply": "2025-09-15T16:03:07.254477Z"
    },
    "papermill": {
     "duration": 0.019339,
     "end_time": "2025-09-15T16:03:07.256999",
     "exception": false,
     "start_time": "2025-09-15T16:03:07.237660",
     "status": "completed"
    },
    "tags": []
   },
   "outputs": [
    {
     "data": {
      "text/plain": [
       "[PosixPath('/kaggle/working/selected/elderly/69_0_1_20170113184901806.jpg.chip.jpg'),\n",
       " PosixPath('/kaggle/working/selected/elderly/66_1_0_20170110140430277.jpg.chip.jpg'),\n",
       " PosixPath('/kaggle/working/selected/elderly/71_0_0_20170109015622110.jpg.chip.jpg'),\n",
       " PosixPath('/kaggle/working/selected/elderly/65_0_3_20170119205855505.jpg.chip.jpg'),\n",
       " PosixPath('/kaggle/working/selected/elderly/70_0_0_20170111200516733.jpg.chip.jpg'),\n",
       " PosixPath('/kaggle/working/selected/elderly/60_1_0_20170110143505801.jpg.chip.jpg')]"
      ]
     },
     "execution_count": 3,
     "metadata": {},
     "output_type": "execute_result"
    }
   ],
   "source": [
    "# Hiển thị 6 file đầu tiên sau khi lọc\n",
    "sample_files = list(OUT_DIR.glob(\"*.jpg*\"))[:6]\n",
    "sample_files\n"
   ]
  },
  {
   "cell_type": "code",
   "execution_count": 4,
   "id": "93ea505e",
   "metadata": {
    "execution": {
     "iopub.execute_input": "2025-09-15T16:03:07.262793Z",
     "iopub.status.busy": "2025-09-15T16:03:07.262456Z",
     "iopub.status.idle": "2025-09-15T16:03:08.051178Z",
     "shell.execute_reply": "2025-09-15T16:03:08.050113Z"
    },
    "papermill": {
     "duration": 0.793385,
     "end_time": "2025-09-15T16:03:08.052790",
     "exception": false,
     "start_time": "2025-09-15T16:03:07.259405",
     "status": "completed"
    },
    "tags": []
   },
   "outputs": [
    {
     "name": "stdout",
     "output_type": "stream",
     "text": [
      "Đã zip xong: /kaggle/working/elderly_faces.zip\n"
     ]
    }
   ],
   "source": [
    "import shutil\n",
    "\n",
    "# Zip lại folder elderly\n",
    "shutil.make_archive(\"/kaggle/working/elderly_faces\", 'zip', \"/kaggle/working/selected/elderly\")\n",
    "\n",
    "print(\"Đã zip xong: /kaggle/working/elderly_faces.zip\")\n"
   ]
  }
 ],
 "metadata": {
  "kaggle": {
   "accelerator": "none",
   "dataSources": [
    {
     "datasetId": 8276005,
     "sourceId": 13068060,
     "sourceType": "datasetVersion"
    }
   ],
   "dockerImageVersionId": 31089,
   "isGpuEnabled": false,
   "isInternetEnabled": true,
   "language": "python",
   "sourceType": "notebook"
  },
  "kernelspec": {
   "display_name": "Python 3",
   "language": "python",
   "name": "python3"
  },
  "language_info": {
   "codemirror_mode": {
    "name": "ipython",
    "version": 3
   },
   "file_extension": ".py",
   "mimetype": "text/x-python",
   "name": "python",
   "nbconvert_exporter": "python",
   "pygments_lexer": "ipython3",
   "version": "3.11.13"
  },
  "papermill": {
   "default_parameters": {},
   "duration": 130.989553,
   "end_time": "2025-09-15T16:03:08.474316",
   "environment_variables": {},
   "exception": null,
   "input_path": "__notebook__.ipynb",
   "output_path": "__notebook__.ipynb",
   "parameters": {},
   "start_time": "2025-09-15T16:00:57.484763",
   "version": "2.6.0"
  }
 },
 "nbformat": 4,
 "nbformat_minor": 5
}
